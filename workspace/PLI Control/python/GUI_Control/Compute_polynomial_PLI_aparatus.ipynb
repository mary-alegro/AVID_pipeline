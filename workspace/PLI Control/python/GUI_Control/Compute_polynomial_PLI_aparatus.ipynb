{
 "cells": [
  {
   "cell_type": "code",
   "execution_count": 1,
   "metadata": {
    "collapsed": true
   },
   "outputs": [],
   "source": [
    "import numpy as np\n",
    "from numpy import genfromtxt\n",
    "import pandas as pd\n",
    "import matplotlib\n",
    "import matplotlib.pyplot as plt\n",
    "%matplotlib inline\n",
    "\n",
    "csv = \"../../angles_vs_dutycic_calibration.csv\"\n",
    "data = genfromtxt(csv, delimiter=',')"
   ]
  },
  {
   "cell_type": "code",
   "execution_count": 2,
   "metadata": {
    "collapsed": true
   },
   "outputs": [],
   "source": [
    "data = pd.read_csv(csv, sep=',',header=None)"
   ]
  },
  {
   "cell_type": "code",
   "execution_count": 3,
   "metadata": {},
   "outputs": [
    {
     "name": "stdout",
     "output_type": "stream",
     "text": [
      "(192L, 1L)\n"
     ]
    }
   ],
   "source": [
    "angles = data.values\n",
    "type(angles)\n",
    "print(angles.shape)\n",
    "nAngs = angles.shape[0]"
   ]
  },
  {
   "cell_type": "code",
   "execution_count": 4,
   "metadata": {},
   "outputs": [
    {
     "name": "stdout",
     "output_type": "stream",
     "text": [
      "[   2.1    3.7    5.4    7.3    9.4   11.4   13.2   15.2   17.2   19.1\n",
      "   21.1   23.    24.8   26.4   28.3   30.2   31.8   33.5   35.3   37.\n",
      "   38.9   40.6   42.3   44.4   46.2   48.    49.9   51.7   53.5   55.5\n",
      "   57.6   59.5   61.4   63.3   65.1   66.7   68.3   70.3   72.4   74.5\n",
      "   76.2   78.    79.9   81.5   83.9   85.4   87.4   89.2   91.2   93.1\n",
      "   95.1   96.9   99.2  101.   103.   104.9  106.7  108.2  110.1  112.2\n",
      "  113.8  115.8  117.6  119.6  121.3  123.3  125.1  127.   128.8  130.7\n",
      "  132.6  134.7  136.6  138.5  140.4  142.2  144.1  146.   147.8  150.\n",
      "  151.5  153.1  154.9  156.6  158.4  160.3  162.2  164.1  165.9  167.7\n",
      "  169.6  171.5  173.5  175.4  177.4  179.3  181.2  183.   184.9  186.7\n",
      "  188.5  190.5  192.4  194.2  196.   197.9  199.8  201.5  203.5  205.4\n",
      "  207.1  209.   210.9  212.9  214.8  216.7  218.5  220.3  222.2  224.\n",
      "  225.7  227.5  229.2  231.   232.9  234.7  236.5  238.3  240.1  241.8\n",
      "  243.8  245.7  247.5  249.3  251.5  253.3  255.3  257.2  259.1  260.8\n",
      "  262.8  264.6  266.4  268.3  270.3  272.   273.8  275.7  277.6  279.7\n",
      "  281.2  283.5  285.3  287.1  288.9  290.8  292.9  294.7  296.6  298.6\n",
      "  300.5  302.4  304.5  306.4  308.1  310.4  312.4  313.6  315.7  317.4\n",
      "  319.6  321.2  323.2  325.2  327.1  329.1  331.1  333.   334.9  336.8\n",
      "  338.7  340.7  342.6  344.3  346.1  348.1  349.9  351.9  353.6  355.5\n",
      "  357.4  359.3]\n"
     ]
    }
   ],
   "source": [
    "angles = angles.reshape([nAngs])\n",
    "print angles"
   ]
  },
  {
   "cell_type": "code",
   "execution_count": 5,
   "metadata": {},
   "outputs": [
    {
     "name": "stdout",
     "output_type": "stream",
     "text": [
      "[    0   150   300   450   600   750   900  1050  1200  1350  1500  1650\n",
      "  1800  1950  2100  2250  2400  2550  2700  2850  3000  3150  3300  3450\n",
      "  3600  3750  3900  4050  4200  4350  4500  4650  4800  4950  5100  5250\n",
      "  5400  5550  5700  5850  6000  6150  6300  6450  6600  6750  6900  7050\n",
      "  7200  7350  7500  7650  7800  7950  8100  8250  8400  8550  8700  8850\n",
      "  9000  9150  9300  9450  9600  9750  9900 10050 10200 10350 10500 10650\n",
      " 10800 10950 11100 11250 11400 11550 11700 11850 12000 12150 12300 12450\n",
      " 12600 12750 12900 13050 13200 13350 13500 13650 13800 13950 14100 14250\n",
      " 14400 14550 14700 14850 15000 15150 15300 15450 15600 15750 15900 16050\n",
      " 16200 16350 16500 16650 16800 16950 17100 17250 17400 17550 17700 17850\n",
      " 18000 18150 18300 18450 18600 18750 18900 19050 19200 19350 19500 19650\n",
      " 19800 19950 20100 20250 20400 20550 20700 20850 21000 21150 21300 21450\n",
      " 21600 21750 21900 22050 22200 22350 22500 22650 22800 22950 23100 23250\n",
      " 23400 23550 23700 23850 24000 24150 24300 24450 24600 24750 24900 25050\n",
      " 25200 25350 25500 25650 25800 25950 26100 26250 26400 26550 26700 26850\n",
      " 27000 27150 27300 27450 27600 27750 27900 28050 28200 28350 28500 28650]\n"
     ]
    }
   ],
   "source": [
    "nCicDegree = 150 #same as in the Arduino code: 150 cicles = 1 degree in the step motor\n",
    "nCicMax = nAngs * nCicDegree\n",
    "#cicles = np.arange(0,28950,150)\n",
    "cicles = np.arange(0,nCicMax,nCicDegree)\n",
    "print(cicles)"
   ]
  },
  {
   "cell_type": "code",
   "execution_count": 6,
   "metadata": {},
   "outputs": [
    {
     "name": "stdout",
     "output_type": "stream",
     "text": [
      "[ -1.53356329e-05   6.86476535e-03   7.95952621e+01  -1.28410674e+02]\n"
     ]
    }
   ],
   "source": [
    "#fit a 3rd dregree polynomial to the data\n",
    "p = np.polyfit(angles,cicles,3)\n",
    "print p"
   ]
  },
  {
   "cell_type": "code",
   "execution_count": 7,
   "metadata": {
    "collapsed": true
   },
   "outputs": [],
   "source": [
    "pev = np.poly1d(p)\n",
    "y = pev(angles)"
   ]
  },
  {
   "cell_type": "code",
   "execution_count": 8,
   "metadata": {},
   "outputs": [
    {
     "data": {
      "image/png": "[encoded data removed]",
      "text/plain": [
       "<matplotlib.figure.Figure at 0x98a1dd8>"
      ]
     },
     "metadata": {},
     "output_type": "display_data"
    }
   ],
   "source": [
    "_ = plt.plot(angles,cicles,'.',angles,y)"
   ]
  },
  {
   "cell_type": "code",
   "execution_count": 11,
   "metadata": {},
   "outputs": [
    {
     "name": "stdout",
     "output_type": "stream",
     "text": [
      "28700.0580011\n"
     ]
    }
   ],
   "source": [
    "y2 = pev(360)\n",
    "print(y2)"
   ]
  },
  {
   "cell_type": "code",
   "execution_count": null,
   "metadata": {
    "collapsed": true
   },
   "outputs": [],
   "source": []
  }
 ],
 "metadata": {
  "anaconda-cloud": {},
  "kernelspec": {
   "display_name": "Python 2",
   "language": "python",
   "name": "python2"
  },
  "language_info": {
   "codemirror_mode": {
    "name": "ipython",
    "version": 2
   },
   "file_extension": ".py",
   "mimetype": "text/x-python",
   "name": "python",
   "nbconvert_exporter": "python",
   "pygments_lexer": "ipython2",
   "version": "2.7.13"
  }
 },
 "nbformat": 4,
 "nbformat_minor": 1
}
